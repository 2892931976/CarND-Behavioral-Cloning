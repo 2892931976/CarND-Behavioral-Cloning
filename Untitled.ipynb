{
 "cells": [
  {
   "cell_type": "code",
   "execution_count": null,
   "metadata": {
    "collapsed": false
   },
   "outputs": [],
   "source": [
    "import cv2\n",
    "import csv\n",
    "import numpy as np\n",
    "\n",
    "training_file = 'data/driving_log.csv'\n",
    "\n",
    "with open(training_file, 'r') as f:\n",
    "    reader = csv.reader(f)\n",
    "    next(reader, None)\n",
    "    data = list(reader)\n",
    "    \n",
    "image_names = []\n",
    "steering_angles = []\n",
    "\n",
    "for line in data:\n",
    "    image_names.append(line[0])\n",
    "    steering_angles.append(line[3])\n",
    "    image_names.append(line[1])\n",
    "    steering_angles.append(line[3])\n",
    "    image_names.append(line[2])\n",
    "    steering_angles.append(line[3])\n",
    "    \n",
    "images = np.zeros((len(image_names), 160, 320, 3))\n",
    "\n",
    "for i in range(len(image_names)):\n",
    "    image = 'data/' + str(image_names[i])\n",
    "    img = cv2.imread(image)\n",
    "    images[i,:,:,:] = img\n",
    "    \n",
    "#images = np.array(images)\n",
    "steering_angles = np.array(steering_angles, dtype=np.float32())\n",
    "\n",
    "print(images.shape)\n",
    "print(steering_angles.shape)"
   ]
  },
  {
   "cell_type": "code",
   "execution_count": null,
   "metadata": {
    "collapsed": false
   },
   "outputs": [],
   "source": [
    "print(images[0].shape)"
   ]
  },
  {
   "cell_type": "code",
   "execution_count": null,
   "metadata": {
    "collapsed": false
   },
   "outputs": [],
   "source": [
    "import matplotlib.pyplot as plt\n",
    "%matplotlib inline\n",
    "\n",
    "plt.figure(figsize=(3,3))\n",
    "plt.imshow(images[0])"
   ]
  },
  {
   "cell_type": "code",
   "execution_count": null,
   "metadata": {
    "collapsed": true
   },
   "outputs": [],
   "source": []
  }
 ],
 "metadata": {
  "kernelspec": {
   "display_name": "Python 3",
   "language": "python",
   "name": "python3"
  },
  "language_info": {
   "codemirror_mode": {
    "name": "ipython",
    "version": 3
   },
   "file_extension": ".py",
   "mimetype": "text/x-python",
   "name": "python",
   "nbconvert_exporter": "python",
   "pygments_lexer": "ipython3",
   "version": "3.5.2"
  }
 },
 "nbformat": 4,
 "nbformat_minor": 2
}
